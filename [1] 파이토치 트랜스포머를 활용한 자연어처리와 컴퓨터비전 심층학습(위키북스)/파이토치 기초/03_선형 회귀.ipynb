{
 "cells": [
  {
   "cell_type": "code",
   "execution_count": 2,
   "metadata": {},
   "outputs": [],
   "source": [
    "# 프레임워크 선언(3.18)\n",
    "import torch \n",
    "from torch import optim\n",
    "\n",
    "# 데이터 선언(3.19)\n",
    "x = torch.FloatTensor([\n",
    "    [1], [2], [3], [4], [5], [6], [7], [8], [9], [10],\n",
    "    [11], [12], [13], [14], [15], [16], [17], [18], [19], [20],\n",
    "    [21], [22], [23], [24], [25], [26], [27], [28], [29], [30]\n",
    "])\n",
    "y = torch.FloatTensor([\n",
    "    [0.94], [1.98], [2.88], [3.92], [3.96], [4.55], [5.64], [6.3], [7.44], [9.1],\n",
    "    [8.46], [9.5], [10.67], [11.16], [14], [11.83], [14.4], [14.25], [16.2], [16.32],\n",
    "    [17.46], [19.8], [18], [21.34], [22], [22.5], [24.57], [26.04], [21.6], [28.8]\n",
    "])"
   ]
  },
  {
   "cell_type": "code",
   "execution_count": 3,
   "metadata": {},
   "outputs": [
    {
     "name": "stdout",
     "output_type": "stream",
     "text": [
      "Epoch : 1000, Weight : 0.864, Bias : -0.138, Cost : 1.393\n",
      "Epoch : 2000, Weight : 0.870, Bias : -0.251, Cost : 1.380\n",
      "Epoch : 3000, Weight : 0.873, Bias : -0.321, Cost : 1.375\n",
      "Epoch : 4000, Weight : 0.875, Bias : -0.364, Cost : 1.373\n",
      "Epoch : 5000, Weight : 0.877, Bias : -0.391, Cost : 1.373\n",
      "Epoch : 6000, Weight : 0.878, Bias : -0.408, Cost : 1.372\n",
      "Epoch : 7000, Weight : 0.878, Bias : -0.419, Cost : 1.372\n",
      "Epoch : 8000, Weight : 0.878, Bias : -0.425, Cost : 1.372\n",
      "Epoch : 9000, Weight : 0.879, Bias : -0.429, Cost : 1.372\n",
      "Epoch : 10000, Weight : 0.879, Bias : -0.432, Cost : 1.372\n"
     ]
    }
   ],
   "source": [
    "# 하이퍼파라미터 초기화(3.20)\n",
    "# - torch.zeros : 메서드로 0을 갖는 텐서 생성\n",
    "# - requires_grad : 텐서에 대한 연산을 추적하며 역전파 메서드를 호출해 기울기를 계산하고 저장(파이토치에서 지원하는 자동 미분 기능)\n",
    "weight = torch.zeros(1, requires_grad=True)\n",
    "bias = torch.zeros(1,requires_grad=True)\n",
    "learning_rate = 0.001\n",
    "\n",
    "# 최적화 선언(3.21)\n",
    "optimizer = optim.SGD([weight,bias], lr=learning_rate)\n",
    "\n",
    "# 에폭, 가설, 손실 함수 선언(3.22)\n",
    "# 가중치와 편향 갱신(3.23)\n",
    "\n",
    "for epoch in range(10000):\n",
    "    hypothesis = x*weight + bias\n",
    "    cost = torch.mean((hypothesis-y)**2)\n",
    "    optimizer.zero_grad()\n",
    "    cost.backward() #역전파\n",
    "    optimizer.step()\n",
    "    \n",
    "    if (epoch + 1) % 1000 == 0:\n",
    "        print(f\"Epoch : {epoch+1:4d}, Weight : {weight.item():.3f}, Bias : {bias.item():.3f}, Cost : {cost:.3f}\")\n",
    "\n"
   ]
  }
 ],
 "metadata": {
  "kernelspec": {
   "display_name": "Python 3",
   "language": "python",
   "name": "python3"
  },
  "language_info": {
   "codemirror_mode": {
    "name": "ipython",
    "version": 3
   },
   "file_extension": ".py",
   "mimetype": "text/x-python",
   "name": "python",
   "nbconvert_exporter": "python",
   "pygments_lexer": "ipython3",
   "version": "3.12.4"
  }
 },
 "nbformat": 4,
 "nbformat_minor": 2
}
