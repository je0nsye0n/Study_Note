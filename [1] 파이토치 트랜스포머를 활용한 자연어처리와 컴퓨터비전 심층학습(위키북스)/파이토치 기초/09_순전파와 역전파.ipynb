{
 "cells": [
  {
   "cell_type": "markdown",
   "metadata": {},
   "source": [
    "### [09. 순전파와 역전파]\n",
    "\n",
    "- 순전파란(Forward Propagation) : 입력이 중어지면 신경망의 출력을 계산하는 프로세스로, 입력 데이터를 기반으로 신경망을 따라 입력층부터 출력층까지 차례대로 변수를 계산하고 추론한 결과를 전달한다.\n",
    "순전파 프로세스 : y = activation(weight*x + bias)   \n",
    "- 역전파(Back Propagation) : 순전파 방향과 반대로 연산이 진행, 학습 과정에서 네트워크의 가중치와 편향은 예측값과 실제 출력값의 오류를 최소화하기 위해 조정된다. 그러므로 이 과정에서는 가중치와 편향을 최적화시키는 작업이라고 이해하면 된다."
   ]
  },
  {
   "cell_type": "code",
   "execution_count": 1,
   "metadata": {},
   "outputs": [],
   "source": [
    "import torch\n",
    "from torch import nn\n",
    "from torch import optim\n",
    "\n",
    "\n",
    "class CustomModel(nn.Module):\n",
    "    def __init__(self):\n",
    "        super().__init__()\n",
    "\n",
    "        self.layer1 = nn.Sequential(\n",
    "            nn.Linear(2, 2),\n",
    "            nn.Sigmoid()\n",
    "        )\n",
    "        self.layer2 = nn.Sequential(\n",
    "            nn.Linear(2, 1),\n",
    "            nn.Sigmoid()\n",
    "        )\n",
    "        \n",
    "        self.layer1[0].weight.data = torch.nn.Parameter(\n",
    "            torch.Tensor([[0.4352, 0.3545],\n",
    "                         [0.1951, 0.4835]])\n",
    "        )\n",
    "\n",
    "        self.layer1[0].bias.data = torch.nn.Parameter(\n",
    "            torch.Tensor([-0.1419,  0.0439])\n",
    "        )\n",
    "\n",
    "        self.layer2[0].weight.data = torch.nn.Parameter(\n",
    "            torch.Tensor([[-0.1725,  0.1129]])\n",
    "        )\n",
    "\n",
    "        self.layer2[0].bias.data = torch.nn.Parameter(\n",
    "            torch.Tensor([-0.3043])\n",
    "        )\n",
    "\n",
    "device = \"cuda\" if torch.cuda.is_available() else \"cpu\"\n",
    "model = CustomModel().to(device)\n",
    "criterion = nn.BCELoss().to(device)\n",
    "optimizer = optim.SGD(model.parameters(), lr=1)"
   ]
  }
 ],
 "metadata": {
  "kernelspec": {
   "display_name": "Python 3",
   "language": "python",
   "name": "python3"
  },
  "language_info": {
   "codemirror_mode": {
    "name": "ipython",
    "version": 3
   },
   "file_extension": ".py",
   "mimetype": "text/x-python",
   "name": "python",
   "nbconvert_exporter": "python",
   "pygments_lexer": "ipython3",
   "version": "3.12.4"
  }
 },
 "nbformat": 4,
 "nbformat_minor": 2
}
