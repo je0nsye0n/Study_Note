{
 "cells": [
  {
   "cell_type": "markdown",
   "metadata": {},
   "source": [
    "### [배치정규화]\n",
    "\n",
    "- 배치 정규화 : 내부 공변량 변화를 줄여 과대적합을 방지하는 기술\n",
    "- 내부 공변량 변화(Internal Convariate Shift) : 모델 학습 과정에서 Layer를 통과할 때마다 출력값의 데이터 분포가 Layer마다 다르게 나타나는 현상   \n",
    "따라서, 이와 같은 문제를 해결하기 위해서 학습 과정에서 Batch마다 평균과 분산을 화용하여 데이터의 분포를 정규화하는 과정이 필요하다.\n"
   ]
  },
  {
   "cell_type": "code",
   "execution_count": 3,
   "metadata": {},
   "outputs": [
    {
     "name": "stdout",
     "output_type": "stream",
     "text": [
      "배치 정규화\n",
      "tensor([[-1.3246, -1.3492, -0.3756],\n",
      "        [ 1.0912,  0.3077,  1.3685],\n",
      "        [ 0.2334,  1.0415, -0.9930]], grad_fn=<NativeBatchNormBackward0>)\n",
      "계층 정규화\n",
      "tensor([[-0.7719, -0.6402,  1.4121],\n",
      "        [-0.1606, -1.1365,  1.2971],\n",
      "        [-0.9738,  1.3746, -0.4008]], grad_fn=<NativeLayerNormBackward0>)\n"
     ]
    }
   ],
   "source": [
    "#배치 정규화 수행(4.02)\n",
    "import torch\n",
    "from torch import nn\n",
    "\n",
    "x = torch.FloatTensor(\n",
    "    [\n",
    "        [-0.6577, -0.5797, 0.6360],\n",
    "        [0.7392, 0.2145, 1.523],\n",
    "        [0.2432, 0.5662, 0.322]\n",
    "    ]\n",
    ")\n",
    "\n",
    "print(\"배치 정규화\")\n",
    "print(nn.BatchNorm1d(3)(x))\n",
    "print(\"계층 정규화\")\n",
    "print(nn.LayerNorm(3)(x))"
   ]
  }
 ],
 "metadata": {
  "kernelspec": {
   "display_name": "Python 3",
   "language": "python",
   "name": "python3"
  },
  "language_info": {
   "codemirror_mode": {
    "name": "ipython",
    "version": 3
   },
   "file_extension": ".py",
   "mimetype": "text/x-python",
   "name": "python",
   "nbconvert_exporter": "python",
   "pygments_lexer": "ipython3",
   "version": "3.12.4"
  }
 },
 "nbformat": 4,
 "nbformat_minor": 2
}
