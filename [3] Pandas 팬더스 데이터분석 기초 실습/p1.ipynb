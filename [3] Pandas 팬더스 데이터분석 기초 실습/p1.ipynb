{
 "cells": [
  {
   "cell_type": "markdown",
   "metadata": {},
   "source": [
    "- 사용 데이터 : [Kaggle의 London bike sharing dataset](https://www.kaggle.com/datasets/hmavrodiev/london-bike-sharing-dataset)"
   ]
  },
  {
   "cell_type": "markdown",
   "metadata": {},
   "source": [
    "Metadata:   \n",
    "\"timestamp\" - timestamp field for grouping the data   \n",
    "\"cnt\" - the count of a new bike shares   \n",
    "\"t1\" - real temperature in C   \n",
    "\"t2\" - temperature in C \"feels like\"   \n",
    "\"hum\" - humidity in percentage   \n",
    "\"wind_speed\" - wind speed in km/h   \n",
    "\"weather_code\" - category of the weather   \n",
    "\"is_holiday\" - boolean field - 1 holiday / 0 non holiday   \n",
    "\"is_weekend\" - boolean field - 1 if the day is weekend   \n",
    "\"season\" - category field meteorological seasons: 0-spring ; 1-summer; 2-fall; 3-winter   \n",
    "\"weathe_code\" category description:"
   ]
  }
 ],
 "metadata": {
  "language_info": {
   "name": "python"
  }
 },
 "nbformat": 4,
 "nbformat_minor": 2
}
