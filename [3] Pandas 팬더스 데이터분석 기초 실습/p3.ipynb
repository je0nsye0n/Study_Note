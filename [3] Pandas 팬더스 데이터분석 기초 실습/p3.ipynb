{
 "cells": [
  {
   "cell_type": "markdown",
   "metadata": {},
   "source": [
    "## 3. 데이터에 머신러닝,딥러닝 분석 모델 적용하기"
   ]
  },
  {
   "cell_type": "code",
   "execution_count": 9,
   "metadata": {},
   "outputs": [],
   "source": [
    "import numpy as np\n",
    "import pandas as pd\n",
    "import matplotlib.pyplot as plt\n",
    "import seaborn as sns\n",
    "import missingno as msno\n",
    "import import_ipynb\n",
    "import p2"
   ]
  },
  {
   "cell_type": "code",
   "execution_count": 10,
   "metadata": {},
   "outputs": [],
   "source": [
    "import keras\n",
    "from keras.models import Sequential\n",
    "from keras.layers import Dense\n",
    "from keras.callbacks import EarlyStopping"
   ]
  },
  {
   "cell_type": "code",
   "execution_count": 23,
   "metadata": {},
   "outputs": [],
   "source": [
    "model = Sequential()\n",
    "model.add(Dense(units=160, activation='relu', input_dim=58))\n",
    "model.add(Dense(units=60, activation='relu'))\n",
    "model.add(Dense(units=20, activation='relu'))\n",
    "model.add(Dense(units=1, activation='linear'))"
   ]
  },
  {
   "cell_type": "code",
   "execution_count": 24,
   "metadata": {},
   "outputs": [
    {
     "data": {
      "text/html": [
       "<pre style=\"white-space:pre;overflow-x:auto;line-height:normal;font-family:Menlo,'DejaVu Sans Mono',consolas,'Courier New',monospace\"><span style=\"font-weight: bold\">Model: \"sequential_3\"</span>\n",
       "</pre>\n"
      ],
      "text/plain": [
       "\u001b[1mModel: \"sequential_3\"\u001b[0m\n"
      ]
     },
     "metadata": {},
     "output_type": "display_data"
    },
    {
     "data": {
      "text/html": [
       "<pre style=\"white-space:pre;overflow-x:auto;line-height:normal;font-family:Menlo,'DejaVu Sans Mono',consolas,'Courier New',monospace\">┏━━━━━━━━━━━━━━━━━━━━━━━━━━━━━━━━━┳━━━━━━━━━━━━━━━━━━━━━━━━┳━━━━━━━━━━━━━━━┓\n",
       "┃<span style=\"font-weight: bold\"> Layer (type)                    </span>┃<span style=\"font-weight: bold\"> Output Shape           </span>┃<span style=\"font-weight: bold\">       Param # </span>┃\n",
       "┡━━━━━━━━━━━━━━━━━━━━━━━━━━━━━━━━━╇━━━━━━━━━━━━━━━━━━━━━━━━╇━━━━━━━━━━━━━━━┩\n",
       "│ dense_12 (<span style=\"color: #0087ff; text-decoration-color: #0087ff\">Dense</span>)                │ (<span style=\"color: #00d7ff; text-decoration-color: #00d7ff\">None</span>, <span style=\"color: #00af00; text-decoration-color: #00af00\">160</span>)            │         <span style=\"color: #00af00; text-decoration-color: #00af00\">9,440</span> │\n",
       "├─────────────────────────────────┼────────────────────────┼───────────────┤\n",
       "│ dense_13 (<span style=\"color: #0087ff; text-decoration-color: #0087ff\">Dense</span>)                │ (<span style=\"color: #00d7ff; text-decoration-color: #00d7ff\">None</span>, <span style=\"color: #00af00; text-decoration-color: #00af00\">60</span>)             │         <span style=\"color: #00af00; text-decoration-color: #00af00\">9,660</span> │\n",
       "├─────────────────────────────────┼────────────────────────┼───────────────┤\n",
       "│ dense_14 (<span style=\"color: #0087ff; text-decoration-color: #0087ff\">Dense</span>)                │ (<span style=\"color: #00d7ff; text-decoration-color: #00d7ff\">None</span>, <span style=\"color: #00af00; text-decoration-color: #00af00\">20</span>)             │         <span style=\"color: #00af00; text-decoration-color: #00af00\">1,220</span> │\n",
       "├─────────────────────────────────┼────────────────────────┼───────────────┤\n",
       "│ dense_15 (<span style=\"color: #0087ff; text-decoration-color: #0087ff\">Dense</span>)                │ (<span style=\"color: #00d7ff; text-decoration-color: #00d7ff\">None</span>, <span style=\"color: #00af00; text-decoration-color: #00af00\">1</span>)              │            <span style=\"color: #00af00; text-decoration-color: #00af00\">21</span> │\n",
       "└─────────────────────────────────┴────────────────────────┴───────────────┘\n",
       "</pre>\n"
      ],
      "text/plain": [
       "┏━━━━━━━━━━━━━━━━━━━━━━━━━━━━━━━━━┳━━━━━━━━━━━━━━━━━━━━━━━━┳━━━━━━━━━━━━━━━┓\n",
       "┃\u001b[1m \u001b[0m\u001b[1mLayer (type)                   \u001b[0m\u001b[1m \u001b[0m┃\u001b[1m \u001b[0m\u001b[1mOutput Shape          \u001b[0m\u001b[1m \u001b[0m┃\u001b[1m \u001b[0m\u001b[1m      Param #\u001b[0m\u001b[1m \u001b[0m┃\n",
       "┡━━━━━━━━━━━━━━━━━━━━━━━━━━━━━━━━━╇━━━━━━━━━━━━━━━━━━━━━━━━╇━━━━━━━━━━━━━━━┩\n",
       "│ dense_12 (\u001b[38;5;33mDense\u001b[0m)                │ (\u001b[38;5;45mNone\u001b[0m, \u001b[38;5;34m160\u001b[0m)            │         \u001b[38;5;34m9,440\u001b[0m │\n",
       "├─────────────────────────────────┼────────────────────────┼───────────────┤\n",
       "│ dense_13 (\u001b[38;5;33mDense\u001b[0m)                │ (\u001b[38;5;45mNone\u001b[0m, \u001b[38;5;34m60\u001b[0m)             │         \u001b[38;5;34m9,660\u001b[0m │\n",
       "├─────────────────────────────────┼────────────────────────┼───────────────┤\n",
       "│ dense_14 (\u001b[38;5;33mDense\u001b[0m)                │ (\u001b[38;5;45mNone\u001b[0m, \u001b[38;5;34m20\u001b[0m)             │         \u001b[38;5;34m1,220\u001b[0m │\n",
       "├─────────────────────────────────┼────────────────────────┼───────────────┤\n",
       "│ dense_15 (\u001b[38;5;33mDense\u001b[0m)                │ (\u001b[38;5;45mNone\u001b[0m, \u001b[38;5;34m1\u001b[0m)              │            \u001b[38;5;34m21\u001b[0m │\n",
       "└─────────────────────────────────┴────────────────────────┴───────────────┘\n"
      ]
     },
     "metadata": {},
     "output_type": "display_data"
    },
    {
     "data": {
      "text/html": [
       "<pre style=\"white-space:pre;overflow-x:auto;line-height:normal;font-family:Menlo,'DejaVu Sans Mono',consolas,'Courier New',monospace\"><span style=\"font-weight: bold\"> Total params: </span><span style=\"color: #00af00; text-decoration-color: #00af00\">20,341</span> (79.46 KB)\n",
       "</pre>\n"
      ],
      "text/plain": [
       "\u001b[1m Total params: \u001b[0m\u001b[38;5;34m20,341\u001b[0m (79.46 KB)\n"
      ]
     },
     "metadata": {},
     "output_type": "display_data"
    },
    {
     "data": {
      "text/html": [
       "<pre style=\"white-space:pre;overflow-x:auto;line-height:normal;font-family:Menlo,'DejaVu Sans Mono',consolas,'Courier New',monospace\"><span style=\"font-weight: bold\"> Trainable params: </span><span style=\"color: #00af00; text-decoration-color: #00af00\">20,341</span> (79.46 KB)\n",
       "</pre>\n"
      ],
      "text/plain": [
       "\u001b[1m Trainable params: \u001b[0m\u001b[38;5;34m20,341\u001b[0m (79.46 KB)\n"
      ]
     },
     "metadata": {},
     "output_type": "display_data"
    },
    {
     "data": {
      "text/html": [
       "<pre style=\"white-space:pre;overflow-x:auto;line-height:normal;font-family:Menlo,'DejaVu Sans Mono',consolas,'Courier New',monospace\"><span style=\"font-weight: bold\"> Non-trainable params: </span><span style=\"color: #00af00; text-decoration-color: #00af00\">0</span> (0.00 B)\n",
       "</pre>\n"
      ],
      "text/plain": [
       "\u001b[1m Non-trainable params: \u001b[0m\u001b[38;5;34m0\u001b[0m (0.00 B)\n"
      ]
     },
     "metadata": {},
     "output_type": "display_data"
    }
   ],
   "source": [
    "model.summary()"
   ]
  },
  {
   "cell_type": "code",
   "execution_count": 27,
   "metadata": {},
   "outputs": [
    {
     "name": "stdout",
     "output_type": "stream",
     "text": [
      "Epoch 1/50\n",
      "\u001b[1m10876/10876\u001b[0m \u001b[32m━━━━━━━━━━━━━━━━━━━━\u001b[0m\u001b[37m\u001b[0m \u001b[1m10s\u001b[0m 801us/step - loss: 137.4994 - mae: 137.4994 - val_loss: 164.4319 - val_mae: 164.4319\n",
      "Epoch 2/50\n",
      "\u001b[1m10876/10876\u001b[0m \u001b[32m━━━━━━━━━━━━━━━━━━━━\u001b[0m\u001b[37m\u001b[0m \u001b[1m9s\u001b[0m 785us/step - loss: 133.4664 - mae: 133.4664 - val_loss: 149.6661 - val_mae: 149.6661\n",
      "Epoch 3/50\n",
      "\u001b[1m10876/10876\u001b[0m \u001b[32m━━━━━━━━━━━━━━━━━━━━\u001b[0m\u001b[37m\u001b[0m \u001b[1m9s\u001b[0m 786us/step - loss: 132.7277 - mae: 132.7277 - val_loss: 143.5293 - val_mae: 143.5293\n",
      "Epoch 4/50\n",
      "\u001b[1m10876/10876\u001b[0m \u001b[32m━━━━━━━━━━━━━━━━━━━━\u001b[0m\u001b[37m\u001b[0m \u001b[1m9s\u001b[0m 783us/step - loss: 133.1494 - mae: 133.1494 - val_loss: 149.9789 - val_mae: 149.9789\n",
      "Epoch 5/50\n",
      "\u001b[1m10876/10876\u001b[0m \u001b[32m━━━━━━━━━━━━━━━━━━━━\u001b[0m\u001b[37m\u001b[0m \u001b[1m9s\u001b[0m 787us/step - loss: 132.1321 - mae: 132.1321 - val_loss: 211.6276 - val_mae: 211.6276\n",
      "Epoch 6/50\n",
      "\u001b[1m10876/10876\u001b[0m \u001b[32m━━━━━━━━━━━━━━━━━━━━\u001b[0m\u001b[37m\u001b[0m \u001b[1m9s\u001b[0m 794us/step - loss: 132.3939 - mae: 132.3939 - val_loss: 141.7819 - val_mae: 141.7819\n",
      "Epoch 7/50\n",
      "\u001b[1m10876/10876\u001b[0m \u001b[32m━━━━━━━━━━━━━━━━━━━━\u001b[0m\u001b[37m\u001b[0m \u001b[1m9s\u001b[0m 784us/step - loss: 128.7364 - mae: 128.7364 - val_loss: 146.9183 - val_mae: 146.9183\n",
      "Epoch 8/50\n",
      "\u001b[1m10876/10876\u001b[0m \u001b[32m━━━━━━━━━━━━━━━━━━━━\u001b[0m\u001b[37m\u001b[0m \u001b[1m9s\u001b[0m 783us/step - loss: 129.1461 - mae: 129.1461 - val_loss: 163.6353 - val_mae: 163.6353\n",
      "Epoch 9/50\n",
      "\u001b[1m10876/10876\u001b[0m \u001b[32m━━━━━━━━━━━━━━━━━━━━\u001b[0m\u001b[37m\u001b[0m \u001b[1m9s\u001b[0m 798us/step - loss: 128.3605 - mae: 128.3605 - val_loss: 232.5444 - val_mae: 232.5444\n",
      "Epoch 10/50\n",
      "\u001b[1m10876/10876\u001b[0m \u001b[32m━━━━━━━━━━━━━━━━━━━━\u001b[0m\u001b[37m\u001b[0m \u001b[1m9s\u001b[0m 793us/step - loss: 126.7702 - mae: 126.7702 - val_loss: 152.1207 - val_mae: 152.1207\n",
      "Epoch 11/50\n",
      "\u001b[1m10876/10876\u001b[0m \u001b[32m━━━━━━━━━━━━━━━━━━━━\u001b[0m\u001b[37m\u001b[0m \u001b[1m9s\u001b[0m 797us/step - loss: 127.3930 - mae: 127.3930 - val_loss: 197.3467 - val_mae: 197.3467\n",
      "Epoch 12/50\n",
      "\u001b[1m10876/10876\u001b[0m \u001b[32m━━━━━━━━━━━━━━━━━━━━\u001b[0m\u001b[37m\u001b[0m \u001b[1m9s\u001b[0m 798us/step - loss: 126.4664 - mae: 126.4664 - val_loss: 158.9963 - val_mae: 158.9963\n",
      "Epoch 13/50\n",
      "\u001b[1m10876/10876\u001b[0m \u001b[32m━━━━━━━━━━━━━━━━━━━━\u001b[0m\u001b[37m\u001b[0m \u001b[1m9s\u001b[0m 792us/step - loss: 123.4494 - mae: 123.4494 - val_loss: 169.6528 - val_mae: 169.6528\n",
      "Epoch 14/50\n",
      "\u001b[1m10876/10876\u001b[0m \u001b[32m━━━━━━━━━━━━━━━━━━━━\u001b[0m\u001b[37m\u001b[0m \u001b[1m9s\u001b[0m 798us/step - loss: 123.1232 - mae: 123.1232 - val_loss: 142.6092 - val_mae: 142.6092\n",
      "Epoch 15/50\n",
      "\u001b[1m10876/10876\u001b[0m \u001b[32m━━━━━━━━━━━━━━━━━━━━\u001b[0m\u001b[37m\u001b[0m \u001b[1m9s\u001b[0m 869us/step - loss: 126.0646 - mae: 126.0646 - val_loss: 150.9238 - val_mae: 150.9238\n",
      "Epoch 16/50\n",
      "\u001b[1m10876/10876\u001b[0m \u001b[32m━━━━━━━━━━━━━━━━━━━━\u001b[0m\u001b[37m\u001b[0m \u001b[1m10s\u001b[0m 912us/step - loss: 123.7797 - mae: 123.7797 - val_loss: 140.5683 - val_mae: 140.5683\n",
      "Epoch 17/50\n",
      "\u001b[1m10876/10876\u001b[0m \u001b[32m━━━━━━━━━━━━━━━━━━━━\u001b[0m\u001b[37m\u001b[0m \u001b[1m10s\u001b[0m 942us/step - loss: 120.2457 - mae: 120.2457 - val_loss: 135.1622 - val_mae: 135.1622\n",
      "Epoch 18/50\n",
      "\u001b[1m10876/10876\u001b[0m \u001b[32m━━━━━━━━━━━━━━━━━━━━\u001b[0m\u001b[37m\u001b[0m \u001b[1m10s\u001b[0m 944us/step - loss: 121.9355 - mae: 121.9355 - val_loss: 154.6427 - val_mae: 154.6427\n",
      "Epoch 19/50\n",
      "\u001b[1m10876/10876\u001b[0m \u001b[32m━━━━━━━━━━━━━━━━━━━━\u001b[0m\u001b[37m\u001b[0m \u001b[1m10s\u001b[0m 942us/step - loss: 121.0878 - mae: 121.0878 - val_loss: 153.1421 - val_mae: 153.1421\n",
      "Epoch 20/50\n",
      "\u001b[1m10876/10876\u001b[0m \u001b[32m━━━━━━━━━━━━━━━━━━━━\u001b[0m\u001b[37m\u001b[0m \u001b[1m10s\u001b[0m 935us/step - loss: 119.8721 - mae: 119.8721 - val_loss: 173.4134 - val_mae: 173.4134\n",
      "Epoch 21/50\n",
      "\u001b[1m10876/10876\u001b[0m \u001b[32m━━━━━━━━━━━━━━━━━━━━\u001b[0m\u001b[37m\u001b[0m \u001b[1m10s\u001b[0m 938us/step - loss: 114.0397 - mae: 114.0397 - val_loss: 191.1346 - val_mae: 191.1346\n",
      "Epoch 22/50\n",
      "\u001b[1m10876/10876\u001b[0m \u001b[32m━━━━━━━━━━━━━━━━━━━━\u001b[0m\u001b[37m\u001b[0m \u001b[1m10s\u001b[0m 933us/step - loss: 119.8233 - mae: 119.8233 - val_loss: 133.4760 - val_mae: 133.4760\n",
      "Epoch 23/50\n",
      "\u001b[1m10876/10876\u001b[0m \u001b[32m━━━━━━━━━━━━━━━━━━━━\u001b[0m\u001b[37m\u001b[0m \u001b[1m10s\u001b[0m 948us/step - loss: 120.8616 - mae: 120.8616 - val_loss: 143.2692 - val_mae: 143.2692\n",
      "Epoch 24/50\n",
      "\u001b[1m10876/10876\u001b[0m \u001b[32m━━━━━━━━━━━━━━━━━━━━\u001b[0m\u001b[37m\u001b[0m \u001b[1m10s\u001b[0m 936us/step - loss: 117.9788 - mae: 117.9788 - val_loss: 142.1991 - val_mae: 142.1991\n",
      "Epoch 25/50\n",
      "\u001b[1m10876/10876\u001b[0m \u001b[32m━━━━━━━━━━━━━━━━━━━━\u001b[0m\u001b[37m\u001b[0m \u001b[1m10s\u001b[0m 929us/step - loss: 115.7680 - mae: 115.7680 - val_loss: 148.6867 - val_mae: 148.6867\n",
      "Epoch 26/50\n",
      "\u001b[1m10876/10876\u001b[0m \u001b[32m━━━━━━━━━━━━━━━━━━━━\u001b[0m\u001b[37m\u001b[0m \u001b[1m10s\u001b[0m 936us/step - loss: 118.9075 - mae: 118.9075 - val_loss: 187.2259 - val_mae: 187.2259\n",
      "Epoch 27/50\n",
      "\u001b[1m10876/10876\u001b[0m \u001b[32m━━━━━━━━━━━━━━━━━━━━\u001b[0m\u001b[37m\u001b[0m \u001b[1m10s\u001b[0m 930us/step - loss: 115.7862 - mae: 115.7862 - val_loss: 141.6165 - val_mae: 141.6165\n",
      "Epoch 28/50\n",
      "\u001b[1m10876/10876\u001b[0m \u001b[32m━━━━━━━━━━━━━━━━━━━━\u001b[0m\u001b[37m\u001b[0m \u001b[1m10s\u001b[0m 939us/step - loss: 114.6387 - mae: 114.6387 - val_loss: 142.8909 - val_mae: 142.8909\n",
      "Epoch 29/50\n",
      "\u001b[1m10876/10876\u001b[0m \u001b[32m━━━━━━━━━━━━━━━━━━━━\u001b[0m\u001b[37m\u001b[0m \u001b[1m10s\u001b[0m 942us/step - loss: 116.2031 - mae: 116.2031 - val_loss: 180.1425 - val_mae: 180.1425\n",
      "Epoch 30/50\n",
      "\u001b[1m10876/10876\u001b[0m \u001b[32m━━━━━━━━━━━━━━━━━━━━\u001b[0m\u001b[37m\u001b[0m \u001b[1m10s\u001b[0m 932us/step - loss: 116.0616 - mae: 116.0616 - val_loss: 146.7258 - val_mae: 146.7258\n",
      "Epoch 31/50\n",
      "\u001b[1m10876/10876\u001b[0m \u001b[32m━━━━━━━━━━━━━━━━━━━━\u001b[0m\u001b[37m\u001b[0m \u001b[1m10s\u001b[0m 934us/step - loss: 114.6216 - mae: 114.6216 - val_loss: 141.8978 - val_mae: 141.8978\n",
      "Epoch 32/50\n",
      "\u001b[1m10876/10876\u001b[0m \u001b[32m━━━━━━━━━━━━━━━━━━━━\u001b[0m\u001b[37m\u001b[0m \u001b[1m10s\u001b[0m 947us/step - loss: 114.6954 - mae: 114.6954 - val_loss: 141.7787 - val_mae: 141.7787\n",
      "Epoch 33/50\n",
      "\u001b[1m10876/10876\u001b[0m \u001b[32m━━━━━━━━━━━━━━━━━━━━\u001b[0m\u001b[37m\u001b[0m \u001b[1m10s\u001b[0m 932us/step - loss: 115.9036 - mae: 115.9036 - val_loss: 186.8229 - val_mae: 186.8229\n",
      "Epoch 34/50\n",
      "\u001b[1m10876/10876\u001b[0m \u001b[32m━━━━━━━━━━━━━━━━━━━━\u001b[0m\u001b[37m\u001b[0m \u001b[1m10s\u001b[0m 935us/step - loss: 113.3500 - mae: 113.3500 - val_loss: 157.3205 - val_mae: 157.3205\n",
      "Epoch 35/50\n",
      "\u001b[1m10876/10876\u001b[0m \u001b[32m━━━━━━━━━━━━━━━━━━━━\u001b[0m\u001b[37m\u001b[0m \u001b[1m10s\u001b[0m 928us/step - loss: 110.4938 - mae: 110.4938 - val_loss: 159.8999 - val_mae: 159.8999\n",
      "Epoch 36/50\n",
      "\u001b[1m10876/10876\u001b[0m \u001b[32m━━━━━━━━━━━━━━━━━━━━\u001b[0m\u001b[37m\u001b[0m \u001b[1m10s\u001b[0m 937us/step - loss: 114.6782 - mae: 114.6782 - val_loss: 144.1721 - val_mae: 144.1721\n",
      "Epoch 37/50\n",
      "\u001b[1m10876/10876\u001b[0m \u001b[32m━━━━━━━━━━━━━━━━━━━━\u001b[0m\u001b[37m\u001b[0m \u001b[1m10s\u001b[0m 947us/step - loss: 115.7167 - mae: 115.7167 - val_loss: 158.9651 - val_mae: 158.9651\n",
      "Epoch 38/50\n",
      "\u001b[1m10876/10876\u001b[0m \u001b[32m━━━━━━━━━━━━━━━━━━━━\u001b[0m\u001b[37m\u001b[0m \u001b[1m10s\u001b[0m 939us/step - loss: 109.6353 - mae: 109.6353 - val_loss: 168.5362 - val_mae: 168.5362\n",
      "Epoch 39/50\n",
      "\u001b[1m10876/10876\u001b[0m \u001b[32m━━━━━━━━━━━━━━━━━━━━\u001b[0m\u001b[37m\u001b[0m \u001b[1m10s\u001b[0m 940us/step - loss: 113.1673 - mae: 113.1673 - val_loss: 150.9359 - val_mae: 150.9359\n",
      "Epoch 40/50\n",
      "\u001b[1m10876/10876\u001b[0m \u001b[32m━━━━━━━━━━━━━━━━━━━━\u001b[0m\u001b[37m\u001b[0m \u001b[1m10s\u001b[0m 940us/step - loss: 110.2355 - mae: 110.2355 - val_loss: 179.1944 - val_mae: 179.1944\n",
      "Epoch 41/50\n",
      "\u001b[1m10876/10876\u001b[0m \u001b[32m━━━━━━━━━━━━━━━━━━━━\u001b[0m\u001b[37m\u001b[0m \u001b[1m10s\u001b[0m 941us/step - loss: 110.7307 - mae: 110.7307 - val_loss: 152.3177 - val_mae: 152.3177\n",
      "Epoch 42/50\n",
      "\u001b[1m10876/10876\u001b[0m \u001b[32m━━━━━━━━━━━━━━━━━━━━\u001b[0m\u001b[37m\u001b[0m \u001b[1m10s\u001b[0m 933us/step - loss: 112.1851 - mae: 112.1851 - val_loss: 127.5264 - val_mae: 127.5264\n",
      "Epoch 43/50\n",
      "\u001b[1m10876/10876\u001b[0m \u001b[32m━━━━━━━━━━━━━━━━━━━━\u001b[0m\u001b[37m\u001b[0m \u001b[1m10s\u001b[0m 947us/step - loss: 110.9902 - mae: 110.9902 - val_loss: 132.9142 - val_mae: 132.9142\n",
      "Epoch 44/50\n",
      "\u001b[1m10876/10876\u001b[0m \u001b[32m━━━━━━━━━━━━━━━━━━━━\u001b[0m\u001b[37m\u001b[0m \u001b[1m10s\u001b[0m 952us/step - loss: 110.7435 - mae: 110.7435 - val_loss: 140.2256 - val_mae: 140.2256\n",
      "Epoch 45/50\n",
      "\u001b[1m10876/10876\u001b[0m \u001b[32m━━━━━━━━━━━━━━━━━━━━\u001b[0m\u001b[37m\u001b[0m \u001b[1m10s\u001b[0m 948us/step - loss: 111.3371 - mae: 111.3371 - val_loss: 155.7630 - val_mae: 155.7630\n",
      "Epoch 46/50\n",
      "\u001b[1m10876/10876\u001b[0m \u001b[32m━━━━━━━━━━━━━━━━━━━━\u001b[0m\u001b[37m\u001b[0m \u001b[1m13s\u001b[0m 1ms/step - loss: 110.1568 - mae: 110.1568 - val_loss: 156.4850 - val_mae: 156.4850\n",
      "Epoch 47/50\n",
      "\u001b[1m10876/10876\u001b[0m \u001b[32m━━━━━━━━━━━━━━━━━━━━\u001b[0m\u001b[37m\u001b[0m \u001b[1m9s\u001b[0m 793us/step - loss: 110.0431 - mae: 110.0431 - val_loss: 146.7266 - val_mae: 146.7266\n",
      "Epoch 48/50\n",
      "\u001b[1m10876/10876\u001b[0m \u001b[32m━━━━━━━━━━━━━━━━━━━━\u001b[0m\u001b[37m\u001b[0m \u001b[1m9s\u001b[0m 795us/step - loss: 110.1525 - mae: 110.1525 - val_loss: 153.7964 - val_mae: 153.7964\n",
      "Epoch 49/50\n",
      "\u001b[1m10876/10876\u001b[0m \u001b[32m━━━━━━━━━━━━━━━━━━━━\u001b[0m\u001b[37m\u001b[0m \u001b[1m9s\u001b[0m 810us/step - loss: 108.8712 - mae: 108.8712 - val_loss: 160.7097 - val_mae: 160.7097\n",
      "Epoch 50/50\n",
      "\u001b[1m10876/10876\u001b[0m \u001b[32m━━━━━━━━━━━━━━━━━━━━\u001b[0m\u001b[37m\u001b[0m \u001b[1m9s\u001b[0m 790us/step - loss: 110.4637 - mae: 110.4637 - val_loss: 133.2173 - val_mae: 133.2173\n"
     ]
    }
   ],
   "source": [
    "model.compile(loss='mae',optimizer='adam',metrics=['mae'])\n",
    "early_stopping = EarlyStopping(monitor='loss',patience=5, mode='min')\n",
    "history = model.fit(p2.x_train, p2.y_train, epochs=50, batch_size=1, validation_split=0.1, callbacks=[early_stopping])"
   ]
  },
  {
   "cell_type": "code",
   "execution_count": 28,
   "metadata": {},
   "outputs": [
    {
     "data": {
      "image/png": "[encoded data removed]",
      "text/plain": [
       "<Figure size 640x480 with 1 Axes>"
      ]
     },
     "metadata": {},
     "output_type": "display_data"
    }
   ],
   "source": [
    "plt.plot(history.history['val_loss'])\n",
    "plt.plot(history.history['loss'])\n",
    "plt.title('loss')\n",
    "plt.xlabel('Epochs')\n",
    "plt.ylabel('loss')\n",
    "plt.legend(['val_loss','loss'])\n",
    "plt.show()"
   ]
  },
  {
   "cell_type": "code",
   "execution_count": 33,
   "metadata": {},
   "outputs": [
    {
     "name": "stdout",
     "output_type": "stream",
     "text": [
      "\u001b[1m162/162\u001b[0m \u001b[32m━━━━━━━━━━━━━━━━━━━━\u001b[0m\u001b[37m\u001b[0m \u001b[1m0s\u001b[0m 616us/step\n"
     ]
    }
   ],
   "source": [
    "y_predict = model.predict(p2.x_test)"
   ]
  },
  {
   "cell_type": "markdown",
   "metadata": {},
   "source": [
    "- 딥러닝 : 사람이 신경망을 흉내낸 인공신경망기반의 학습\n",
    "   \n",
    "random forest같은 경우는 인공신경망기반이 아닌 별도의 알고리즘을 통해 기계가 학습하는 방식임.\n",
    "- random forest : 숲처럼 수천개의 여러가지 모형들을 만들어서 평균을 만든다거나 투표같은 것을 통해 앙상블 기법을 적용한 모형으로 이해하면 됨. (병렬)\n",
    "- boosting 계열 : forest는 병렬로 진행된다면 부스팅 계열은 순차적으로 진행되는 것을 의미함"
   ]
  },
  {
   "cell_type": "code",
   "execution_count": 34,
   "metadata": {},
   "outputs": [
    {
     "name": "stdout",
     "output_type": "stream",
     "text": [
      "RMSE 256.280060806786\n"
     ]
    }
   ],
   "source": [
    "from sklearn.metrics import mean_squared_error\n",
    "\n",
    "def RMSE(y_test, y_predict) :\n",
    "    return np.sqrt(mean_squared_error(y_test, y_predict)) #예측을 한 값과 테스트한 값을 비교하여 루트를 씌운 후, 이 값을 반환\n",
    "\n",
    "print('RMSE', RMSE(p2.y_test, y_predict))"
   ]
  },
  {
   "cell_type": "code",
   "execution_count": 35,
   "metadata": {},
   "outputs": [
    {
     "name": "stdout",
     "output_type": "stream",
     "text": [
      "304.1073314009604\n"
     ]
    }
   ],
   "source": [
    "from sklearn.ensemble import RandomForestRegressor\n",
    "rf = RandomForestRegressor(n_estimators=100, random_state=16)\n",
    "\n",
    "rf.fit(p2.x_train, p2.y_train)\n",
    "rf_result = rf.predict(p2.x_test)\n",
    "print(RMSE(p2.y_test, rf_result))"
   ]
  }
 ],
 "metadata": {
  "kernelspec": {
   "display_name": "Python 3",
   "language": "python",
   "name": "python3"
  },
  "language_info": {
   "codemirror_mode": {
    "name": "ipython",
    "version": 3
   },
   "file_extension": ".py",
   "mimetype": "text/x-python",
   "name": "python",
   "nbconvert_exporter": "python",
   "pygments_lexer": "ipython3",
   "version": "3.12.4"
  }
 },
 "nbformat": 4,
 "nbformat_minor": 2
}
